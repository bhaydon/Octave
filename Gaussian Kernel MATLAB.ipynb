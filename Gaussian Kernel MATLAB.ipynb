{
  "nbformat": 4,
  "nbformat_minor": 0,
  "metadata": {
    "colab": {
      "name": "Untitled0.ipynb",
      "provenance": [],
      "authorship_tag": "ABX9TyOkUR8aRegdcec38Rlm1cFL",
      "include_colab_link": true
    },
    "kernelspec": {
      "name": "python3",
      "display_name": "Python 3"
    },
    "language_info": {
      "name": "python"
    }
  },
  "cells": [
    {
      "cell_type": "markdown",
      "metadata": {
        "id": "view-in-github",
        "colab_type": "text"
      },
      "source": [
        "<a href=\"https://colab.research.google.com/github/bhaydon/Octave/blob/main/Gaussian%20Kernel%20MATLAB.ipynb\" target=\"_parent\"><img src=\"https://colab.research.google.com/assets/colab-badge.svg\" alt=\"Open In Colab\"/></a>"
      ]
    },
    {
      "cell_type": "markdown",
      "source": [
        "## Gaussian Kernel Implementation - MATLAB/Octave\n",
        "# Bruce Haydon (2022)"
      ],
      "metadata": {
        "id": "fwOmo1HOpQbF"
      }
    },
    {
      "cell_type": "code",
      "execution_count": 2,
      "metadata": {
        "colab": {
          "base_uri": "https://localhost:8080/",
          "height": 133
        },
        "id": "IKhPeVjzpChj",
        "outputId": "b3abaac2-1496-4f74-b6b2-825a0c7171b2"
      },
      "outputs": [
        {
          "output_type": "error",
          "ename": "SyntaxError",
          "evalue": "ignored",
          "traceback": [
            "\u001b[0;36m  File \u001b[0;32m\"<ipython-input-2-2e6a51a4656c>\"\u001b[0;36m, line \u001b[0;32m3\u001b[0m\n\u001b[0;31m    function sim = gaussianKernel(x1, x2, sigma)\u001b[0m\n\u001b[0m               ^\u001b[0m\n\u001b[0;31mSyntaxError\u001b[0m\u001b[0;31m:\u001b[0m invalid syntax\n"
          ]
        }
      ],
      "source": [
        "\n",
        "   \n",
        "function sim = gaussianKernel(x1, x2, sigma)\n",
        "%   RBFKERNEL returns a radial basis function kernel between x1 and x2\n",
        "%   sim = gaussianKernel(x1, x2) returns a gaussian kernel between x1 and x2\n",
        "%   and returns the value in sim\n",
        "%   Bruce Haydon, New York \n",
        "\n",
        "% Ensure that x1 and x2 are column vectors\n",
        "x1 = x1(:); x2 = x2(:);\n",
        "\n",
        "% Initialize output variable to zero\n",
        "sim = 0;\n",
        "\n",
        "% ============================================\n",
        "% NOTE :        This function will return the similarity between x1\n",
        "%               and x2 computed using a Gaussian kernel with bandwidth\n",
        "%               sigma\n",
        "%\n",
        "% Step is deliberately broken into several steps to allow a breakpoint to be \n",
        "% placed to determine intermediate results\n",
        "\n",
        "% diffsq = (x1 - x2).^2;\n",
        "% diffsqsum = sum(diffsq);\n",
        "% diffsqsumsig = diffsqsum/(2.*sigma^2);\n",
        "% sim=exp(-1*diffsqsumsig);\n",
        "\n",
        "sim = exp(-sum((x1-x2).^2)/(2*sigma^2));\n",
        "\n",
        "\n",
        "% =============================================================\n"
      ]
    },
    {
      "cell_type": "markdown",
      "source": [
        ""
      ],
      "metadata": {
        "id": "94Z429-2pEyT"
      }
    }
  ]
}